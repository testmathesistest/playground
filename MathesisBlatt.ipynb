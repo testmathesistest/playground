{
 "cells": [
  {
   "cell_type": "markdown",
   "metadata": {},
   "source": [
    "Funktionen, Numpy, Matplotlib\n",
    "-------------------------------\n",
    "-------------------------------\n",
    "Grundlagen zu Funktionen\n",
    "------------------------------- \n",
    "\n",
    "Ein besonders wichtiges Hilfsmittel zur Strukturierung von Programmen\n",
    "ist die Definition von Funktionen.\n",
    "\n",
    "    def f(x,y):\n",
    "        '''Liefert x*x, falls x<y, sonst 0'''\n",
    "        if x<y:\n",
    "           return x*x\n",
    "        else:\n",
    "           return 0\n",
    "\n",
    "Mit `return ...` wird die Größe definiert, die anschließend als Wert der\n",
    "Funktion zurückgegeben wird. \n",
    "\n"
   ]
  },
  {
   "cell_type": "code",
   "execution_count": 59,
   "metadata": {},
   "outputs": [],
   "source": [
    "def f(x,y):\n",
    "    \"\"\"Liefert x*x, falls x<y, sonst 0\n",
    "    \n",
    "    x und y müssen Zahlen sein.\n",
    "    \"\"\"\n",
    "    if x<y:  # Kommentar\n",
    "       return x*x\n",
    "    else:\n",
    "       return 0"
   ]
  },
  {
   "cell_type": "code",
   "execution_count": 4,
   "metadata": {},
   "outputs": [
    {
     "name": "stdout",
     "output_type": "stream",
     "text": [
      "4\n",
      "0\n"
     ]
    }
   ],
   "source": [
    "print(f(2,3))\n",
    "print(f(3,2))"
   ]
  },
  {
   "cell_type": "code",
   "execution_count": 60,
   "metadata": {
    "scrolled": true
   },
   "outputs": [
    {
     "name": "stdout",
     "output_type": "stream",
     "text": [
      "Help on function f in module __main__:\n",
      "\n",
      "f(x, y)\n",
      "    Liefert x*x, falls x<y, sonst 0\n",
      "    \n",
      "    x und y müssen Zahlen sein.\n",
      "\n"
     ]
    }
   ],
   "source": [
    "help(f)"
   ]
  },
  {
   "cell_type": "markdown",
   "metadata": {},
   "source": [
    "Docstrings\n",
    "------------\n",
    "Unter der def-Zeile steht im Beispiel eine Beschreibung in dreifachen Anführungszeichen. Die kann auch über mehrere Zeilen gehen und wird angezeigt, wenn man im interaktiven Modus help(f) eingibt. Man nennt das einen Doc-String. Generell sollte man in Programmen alle Funktionen mit einer kleinen Beschreibung versehen und auch sonst mit Kommentaren nicht sparen: Beim Schreiben wisst ihr meistens noch, was ihr wollt, eine Woche später vielleicht schon nicht mehr. "
   ]
  },
  {
   "cell_type": "code",
   "execution_count": 5,
   "metadata": {},
   "outputs": [
    {
     "name": "stdout",
     "output_type": "stream",
     "text": [
      "Help on function f in module __main__:\n",
      "\n",
      "f(x, y)\n",
      "    Liefert x*x, falls x<y, sonst 0\n",
      "    \n",
      "    x und y müssen Zahlen sein.\n",
      "\n"
     ]
    }
   ],
   "source": [
    "help(f)"
   ]
  },
  {
   "cell_type": "markdown",
   "metadata": {},
   "source": [
    "Funktionen müssen aber nicht unbedingt einen Wert zurückgeben, sie können auch einfach etwas tun:\n",
    "\n",
    "def  lobe(s): \n",
    "   print s+ \" ist besonders wohlschmeckend.\"\n",
    "\n",
    "for sorte in kohl:\n",
    "    lobe(sorte)\n",
    "Eine Funktion, in der kein return vorkommt, gibt den Wert None zurück (also das schon einmal erwähne bestimmte Nichts)."
   ]
  },
  {
   "cell_type": "code",
   "execution_count": 27,
   "metadata": {},
   "outputs": [
    {
     "name": "stdout",
     "output_type": "stream",
     "text": [
      "4\n"
     ]
    }
   ],
   "source": [
    "def bla(x):\n",
    "    print(x**2)\n",
    "    \n",
    "y = bla(2)"
   ]
  },
  {
   "cell_type": "markdown",
   "metadata": {},
   "source": [
    "Beispiel einer Funktion ohne Rückgabewert: Überprüfe Typ des Rückgabewertes mit der Funktion type()"
   ]
  },
  {
   "cell_type": "code",
   "execution_count": 30,
   "metadata": {},
   "outputs": [
    {
     "data": {
      "text/plain": [
       "NoneType"
      ]
     },
     "execution_count": 30,
     "metadata": {},
     "output_type": "execute_result"
    }
   ],
   "source": [
    "type(y)"
   ]
  },
  {
   "cell_type": "code",
   "execution_count": 31,
   "metadata": {},
   "outputs": [
    {
     "name": "stdout",
     "output_type": "stream",
     "text": [
      "Weisskohl ist besonders wohlschmeckend.\n",
      "Rotkohl ist besonders wohlschmeckend.\n",
      "Wirsing ist besonders wohlschmeckend.\n"
     ]
    }
   ],
   "source": [
    "kohl=[\"Weisskohl\",\"Rotkohl\",\"Wirsing\"]\n",
    "\n",
    "def  lobe(s):\n",
    "    '''akzeptiert einen String s\n",
    "    gibt ein Lob aus, aber nichts zurück.'''\n",
    "    print( s+ \" ist besonders wohlschmeckend.\")\n",
    "\n",
    "\n",
    "for sorte in kohl:\n",
    "    lobe(sorte)"
   ]
  },
  {
   "cell_type": "code",
   "execution_count": 9,
   "metadata": {},
   "outputs": [
    {
     "name": "stdout",
     "output_type": "stream",
     "text": [
      "Der Keks ist besonders wohlschmeckend.\n"
     ]
    }
   ],
   "source": [
    "lobe('Der Keks')"
   ]
  },
  {
   "cell_type": "code",
   "execution_count": 32,
   "metadata": {},
   "outputs": [
    {
     "name": "stdout",
     "output_type": "stream",
     "text": [
      "(5, -1)\n"
     ]
    }
   ],
   "source": [
    "def f(x,y):\n",
    "    return x+y, x-y\n",
    "\n",
    "print(f(2,3))"
   ]
  },
  {
   "cell_type": "markdown",
   "metadata": {},
   "source": [
    "Lokale und globale Variablen\n",
    "---------------------------------\n",
    "Alle Variablen, die Sie in einer Funktion verändern oder zuweisen, sind lokal, d.h. die Zuweisung wirkt sich nicht außerhalb der Funktion aus, wenn dort eine Variable denselben Namen trägt. Wenn Sie tatsächlich Variablen von außerhalb verändern wollen, müssen Sie sie dass durch global variablenname deklarieren.\n",
    "\n",
    "Probieren Sie mit den folgenden Beispielen herum."
   ]
  },
  {
   "cell_type": "code",
   "execution_count": 13,
   "metadata": {
    "collapsed": true
   },
   "outputs": [],
   "source": [
    "konstante=42\n",
    "\n",
    "def f(x):\n",
    "    y=x*x\n",
    "    konstante=12\n",
    "    return y"
   ]
  },
  {
   "cell_type": "code",
   "execution_count": 14,
   "metadata": {},
   "outputs": [
    {
     "data": {
      "text/plain": [
       "1"
      ]
     },
     "execution_count": 14,
     "metadata": {},
     "output_type": "execute_result"
    }
   ],
   "source": [
    "f(1)"
   ]
  },
  {
   "cell_type": "code",
   "execution_count": 15,
   "metadata": {},
   "outputs": [
    {
     "name": "stdout",
     "output_type": "stream",
     "text": [
      "42\n"
     ]
    }
   ],
   "source": [
    "print(konstante)"
   ]
  },
  {
   "cell_type": "code",
   "execution_count": 34,
   "metadata": {
    "collapsed": true
   },
   "outputs": [],
   "source": [
    "# fehlerhafter Code: Ausprobieren, um den Fehler zu sehen\n",
    "\n",
    "konstante=42\n",
    "\n",
    "def f(x):\n",
    "   \n",
    "    y=x*x*konstante\n",
    "    konstante=12\n",
    "    bla = 4\n",
    "    return y"
   ]
  },
  {
   "cell_type": "code",
   "execution_count": 35,
   "metadata": {},
   "outputs": [
    {
     "ename": "UnboundLocalError",
     "evalue": "local variable 'konstante' referenced before assignment",
     "output_type": "error",
     "traceback": [
      "\u001b[0;31m---------------------------------------------------------------------------\u001b[0m",
      "\u001b[0;31mUnboundLocalError\u001b[0m                         Traceback (most recent call last)",
      "\u001b[0;32m<ipython-input-35-90b61b657670>\u001b[0m in \u001b[0;36m<module>\u001b[0;34m()\u001b[0m\n\u001b[0;32m----> 1\u001b[0;31m \u001b[0mf\u001b[0m\u001b[0;34m(\u001b[0m\u001b[0;36m1\u001b[0m\u001b[0;34m)\u001b[0m\u001b[0;34m\u001b[0m\u001b[0m\n\u001b[0m",
      "\u001b[0;32m<ipython-input-34-7534226be6fc>\u001b[0m in \u001b[0;36mf\u001b[0;34m(x)\u001b[0m\n\u001b[1;32m      5\u001b[0m \u001b[0;32mdef\u001b[0m \u001b[0mf\u001b[0m\u001b[0;34m(\u001b[0m\u001b[0mx\u001b[0m\u001b[0;34m)\u001b[0m\u001b[0;34m:\u001b[0m\u001b[0;34m\u001b[0m\u001b[0m\n\u001b[1;32m      6\u001b[0m \u001b[0;34m\u001b[0m\u001b[0m\n\u001b[0;32m----> 7\u001b[0;31m     \u001b[0my\u001b[0m\u001b[0;34m=\u001b[0m\u001b[0mx\u001b[0m\u001b[0;34m*\u001b[0m\u001b[0mx\u001b[0m\u001b[0;34m*\u001b[0m\u001b[0mkonstante\u001b[0m\u001b[0;34m\u001b[0m\u001b[0m\n\u001b[0m\u001b[1;32m      8\u001b[0m     \u001b[0mkonstante\u001b[0m\u001b[0;34m=\u001b[0m\u001b[0;36m12\u001b[0m\u001b[0;34m\u001b[0m\u001b[0m\n\u001b[1;32m      9\u001b[0m     \u001b[0mbla\u001b[0m \u001b[0;34m=\u001b[0m \u001b[0;36m4\u001b[0m\u001b[0;34m\u001b[0m\u001b[0m\n",
      "\u001b[0;31mUnboundLocalError\u001b[0m: local variable 'konstante' referenced before assignment"
     ]
    }
   ],
   "source": [
    "f(1)"
   ]
  },
  {
   "cell_type": "code",
   "execution_count": 21,
   "metadata": {},
   "outputs": [
    {
     "ename": "NameError",
     "evalue": "name 'bla' is not defined",
     "output_type": "error",
     "traceback": [
      "\u001b[0;31m---------------------------------------------------------------------------\u001b[0m",
      "\u001b[0;31mNameError\u001b[0m                                 Traceback (most recent call last)",
      "\u001b[0;32m<ipython-input-21-3cd7a0db76ff>\u001b[0m in \u001b[0;36m<module>\u001b[0;34m()\u001b[0m\n\u001b[0;32m----> 1\u001b[0;31m \u001b[0mbla\u001b[0m\u001b[0;34m\u001b[0m\u001b[0m\n\u001b[0m",
      "\u001b[0;31mNameError\u001b[0m: name 'bla' is not defined"
     ]
    }
   ],
   "source": [
    "bla"
   ]
  },
  {
   "cell_type": "code",
   "execution_count": 23,
   "metadata": {},
   "outputs": [
    {
     "name": "stdout",
     "output_type": "stream",
     "text": [
      "12\n",
      "42\n"
     ]
    }
   ],
   "source": [
    "konstante=42\n",
    "\n",
    "def f(x):\n",
    "    konstante=12\n",
    "    y=x*x*konstante\n",
    "    return y\n",
    "\n",
    "print(f(1))\n",
    "print(konstante)"
   ]
  },
  {
   "cell_type": "code",
   "execution_count": 25,
   "metadata": {},
   "outputs": [
    {
     "name": "stdout",
     "output_type": "stream",
     "text": [
      "42\n",
      "12\n"
     ]
    }
   ],
   "source": [
    "konstante=42\n",
    "\n",
    "def f(x):\n",
    "    global konstante\n",
    "    \n",
    "    y=x*x*konstante\n",
    "    konstante=12\n",
    "    return y\n",
    "\n",
    "print(f(1))\n",
    "print(konstante)"
   ]
  },
  {
   "cell_type": "markdown",
   "metadata": {},
   "source": [
    "Argumente – Position oder Schlüsselwort\n",
    "-------------------------------------------------\n",
    "In den älteren Programmiersprachen werden die Argumente an eine Funktion in einer bestimmten Reihenfolge übergeben, die man sich merken muss. Das ist auch in Python eine mögliche Variante.\n",
    "\n",
    "def f(a,b,h):\n",
    "    return h*(b+a)/2\n",
    "In der Funktion spielen  aa ,  bb  und  hh  verschiedene Rollen. Wenn ich  f(1,2,5)f(1,2,5)  aufrufe, sollte ich wissen, dass 1 für a, 2 für b und 5 für h eingesetzt wird."
   ]
  },
  {
   "cell_type": "code",
   "execution_count": 36,
   "metadata": {
    "collapsed": true
   },
   "outputs": [],
   "source": [
    "def f(a,b,h):\n",
    "    '''berechnet Fläche eines Trapezes\n",
    "    Parameter a,b,h'''\n",
    "    return h*(b+a)/2"
   ]
  },
  {
   "cell_type": "code",
   "execution_count": 37,
   "metadata": {},
   "outputs": [
    {
     "data": {
      "text/plain": [
       "10.0"
      ]
     },
     "execution_count": 37,
     "metadata": {},
     "output_type": "execute_result"
    }
   ],
   "source": [
    "f(2,3,4)"
   ]
  },
  {
   "cell_type": "code",
   "execution_count": 38,
   "metadata": {
    "collapsed": true
   },
   "outputs": [],
   "source": [
    "def f(a=1,b=1,h=1):\n",
    "    '''brerechnet Fläche eines Trapezes\n",
    "    Parameter a,b,h'''\n",
    "    return h*(b+a)/2"
   ]
  },
  {
   "cell_type": "code",
   "execution_count": 39,
   "metadata": {},
   "outputs": [
    {
     "name": "stdout",
     "output_type": "stream",
     "text": [
      "2.5\n",
      "1.0\n",
      "150.0\n"
     ]
    }
   ],
   "source": [
    "print(f(b=2,a=3))\n",
    "print(f())\n",
    "print(f(h=12,a=12,b=13))"
   ]
  },
  {
   "cell_type": "markdown",
   "metadata": {},
   "source": [
    "Plotting mit Matplotlib\n",
    "---------------------------\n",
    "Dieses Semester beschäftigen wir uns intensiv mit der Bildverarbeitung in Python. \n",
    "\n",
    "Matplotlib ermöglicht es, wissenschaftliche Plots in Publikationsqualität zu erzeugen sowie auch Simulationen und Entwicklungen zu visualisieren. Da es sich, wie der Name schon sagt, um eine mathematische Plotting-Library handelt, ist es zunächst auch nötig, sich ein wenig mit dem numerischen Python-Modul Numpy zu beschäftigen.\n",
    "\n",
    "Dieses stellt Datenstrukturen für Vektoren und Matrizen zur Verfügung und erlaubt es außerdem, auf diesen vordefinierte Funktionen und Operationen auszuführen. Die Numpy-Datenstrukturen sind hinsichtlich Effizienz und Praktikabilität auf die Verarbeitung mathematischer Strukturen designt.\n",
    "\n",
    "Mehr zu Numpy in der Dokumentation: https://docs.scipy.org/doc/numpy/user/quickstart.html\n",
    "\n",
    "Mehr zu Matplotlib ebenfalls in der Dokumentation: https://matplotlib.org/index.html\n"
   ]
  },
  {
   "cell_type": "markdown",
   "metadata": {},
   "source": [
    "Wichtige Funktionen/Methoden in Numpy \n",
    "\n",
    "  A=np.array(....)  erzeugt ein array\n",
    "  \n",
    "  A.reshape (  (zeilen, spalten) )    ordnet um\n",
    "  \n",
    "  A.shape  gibt die Gestalt aus (zeilen, spalten)\n",
    "  \n",
    "  np.dot(A,B) bzw. A.dot(B) multipliziert die Arrays (Matrizen)\n",
    "  \n",
    "  np.arange(anfang, [ende, [sprung]])  erzeugt das Array [anfang, anfang+sprung,anfang +2*sprung,...]\n",
    "        \n",
    "  np.linspace(anfang, ende, n) erzeugt ein Array mit n Elementen und gleichen Abständen, das erste ist Anfang, das letzte ist Ende."
   ]
  },
  {
   "cell_type": "code",
   "execution_count": 1,
   "metadata": {},
   "outputs": [],
   "source": [
    "import numpy\n",
    "import matplotlib\n",
    "import matplotlib.pyplot as plt\n",
    "# Needed in Jupyter Notebook\n",
    "%matplotlib inline"
   ]
  },
  {
   "cell_type": "code",
   "execution_count": 2,
   "metadata": {
    "scrolled": false
   },
   "outputs": [
    {
     "data": {
      "image/png": "[encoded data removed]",
      "text/plain": [
       "<matplotlib.figure.Figure at 0x1fbbd5eaef0>"
      ]
     },
     "metadata": {},
     "output_type": "display_data"
    }
   ],
   "source": [
    "x = numpy.arange(0, 6.001, 0.25)\n",
    "y = numpy.sin(x)\n",
    "z = numpy.cos(x)\n",
    "\n",
    "plt.plot(x, y, 'o-', color='red', label='f = sin')\n",
    "plt.plot(x, z, 's-', color='blue', label='f = cos')\n",
    "\n",
    "plt.legend()\n",
    "\n",
    "plt.xlabel('x')\n",
    "plt.ylabel('f(x)')\n",
    "plt.grid(True)"
   ]
  },
  {
   "cell_type": "code",
   "execution_count": 57,
   "metadata": {},
   "outputs": [
    {
     "data": {
      "text/plain": [
       "Text(0,0.5,'y')"
      ]
     },
     "execution_count": 57,
     "metadata": {},
     "output_type": "execute_result"
    },
    {
     "data": {
      "image/png": "[encoded data removed]",
      "text/plain": [
       "<Figure size 432x288 with 1 Axes>"
      ]
     },
     "metadata": {},
     "output_type": "display_data"
    }
   ],
   "source": [
    "import numpy as np\n",
    "x = np.linspace(0,4*np.pi,1000)\n",
    "y1 = np.sin(x)\n",
    "y2 = np.cos(x)\n",
    "plt.plot(x,y1, label='sin(x)')\n",
    "plt.plot(x,y2, label='cos(x)')\n",
    "plt.legend()\n",
    "plt.xlabel('x')\n",
    "plt.ylabel('y')"
   ]
  },
  {
   "cell_type": "code",
   "execution_count": null,
   "metadata": {
    "collapsed": true
   },
   "outputs": [],
   "source": []
  }
 ],
 "metadata": {
  "kernelspec": {
   "display_name": "Python 3",
   "language": "python",
   "name": "python3"
  },
  "language_info": {
   "codemirror_mode": {
    "name": "ipython",
    "version": 3
   },
   "file_extension": ".py",
   "mimetype": "text/x-python",
   "name": "python",
   "nbconvert_exporter": "python",
   "pygments_lexer": "ipython3",
   "version": "3.6.4"
  }
 },
 "nbformat": 4,
 "nbformat_minor": 2
}
